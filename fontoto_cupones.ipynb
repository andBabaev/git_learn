{
  "nbformat": 4,
  "nbformat_minor": 0,
  "metadata": {
    "colab": {
      "name": "fontoto_cupones.ipynb",
      "provenance": [],
      "collapsed_sections": [],
      "machine_shape": "hm",
      "authorship_tag": "ABX9TyOYOZUTtMBVFNtCoyAGfH7/",
      "include_colab_link": true
    },
    "kernelspec": {
      "name": "python3",
      "display_name": "Python 3"
    },
    "widgets": {
      "application/vnd.jupyter.widget-state+json": {
        "4d4d95639ab04138950dac25cdb67f17": {
          "model_module": "@jupyter-widgets/controls",
          "model_name": "HBoxModel",
          "state": {
            "_view_name": "HBoxView",
            "_dom_classes": [],
            "_model_name": "HBoxModel",
            "_view_module": "@jupyter-widgets/controls",
            "_model_module_version": "1.5.0",
            "_view_count": null,
            "_view_module_version": "1.5.0",
            "box_style": "",
            "layout": "IPY_MODEL_7776d094204047f38e315b44913ddaac",
            "_model_module": "@jupyter-widgets/controls",
            "children": [
              "IPY_MODEL_e56a14ed71b64d80ade93c170cd506a3",
              "IPY_MODEL_cd12ccdd389c4374a5ff10c5a4bd36ef"
            ]
          }
        },
        "7776d094204047f38e315b44913ddaac": {
          "model_module": "@jupyter-widgets/base",
          "model_name": "LayoutModel",
          "state": {
            "_view_name": "LayoutView",
            "grid_template_rows": null,
            "right": null,
            "justify_content": null,
            "_view_module": "@jupyter-widgets/base",
            "overflow": null,
            "_model_module_version": "1.2.0",
            "_view_count": null,
            "flex_flow": null,
            "width": null,
            "min_width": null,
            "border": null,
            "align_items": null,
            "bottom": null,
            "_model_module": "@jupyter-widgets/base",
            "top": null,
            "grid_column": null,
            "overflow_y": null,
            "overflow_x": null,
            "grid_auto_flow": null,
            "grid_area": null,
            "grid_template_columns": null,
            "flex": null,
            "_model_name": "LayoutModel",
            "justify_items": null,
            "grid_row": null,
            "max_height": null,
            "align_content": null,
            "visibility": null,
            "align_self": null,
            "height": null,
            "min_height": null,
            "padding": null,
            "grid_auto_rows": null,
            "grid_gap": null,
            "max_width": null,
            "order": null,
            "_view_module_version": "1.2.0",
            "grid_template_areas": null,
            "object_position": null,
            "object_fit": null,
            "grid_auto_columns": null,
            "margin": null,
            "display": null,
            "left": null
          }
        },
        "e56a14ed71b64d80ade93c170cd506a3": {
          "model_module": "@jupyter-widgets/controls",
          "model_name": "IntProgressModel",
          "state": {
            "_view_name": "ProgressView",
            "style": "IPY_MODEL_fe4fdf4a54d34585a5e375f5144f3f83",
            "_dom_classes": [],
            "description": "100%",
            "_model_name": "IntProgressModel",
            "bar_style": "success",
            "max": 73095,
            "_view_module": "@jupyter-widgets/controls",
            "_model_module_version": "1.5.0",
            "value": 73095,
            "_view_count": null,
            "_view_module_version": "1.5.0",
            "orientation": "horizontal",
            "min": 0,
            "description_tooltip": null,
            "_model_module": "@jupyter-widgets/controls",
            "layout": "IPY_MODEL_b20d15cce41d423d95369b0885cbaacf"
          }
        },
        "cd12ccdd389c4374a5ff10c5a4bd36ef": {
          "model_module": "@jupyter-widgets/controls",
          "model_name": "HTMLModel",
          "state": {
            "_view_name": "HTMLView",
            "style": "IPY_MODEL_e0295d9de5324dc0a9401ea8c923ca75",
            "_dom_classes": [],
            "description": "",
            "_model_name": "HTMLModel",
            "placeholder": "​",
            "_view_module": "@jupyter-widgets/controls",
            "_model_module_version": "1.5.0",
            "value": " 73095/73095 [01:03&lt;00:00, 1157.19it/s]",
            "_view_count": null,
            "_view_module_version": "1.5.0",
            "description_tooltip": null,
            "_model_module": "@jupyter-widgets/controls",
            "layout": "IPY_MODEL_28efc2b8da37403db7436a215b333209"
          }
        },
        "fe4fdf4a54d34585a5e375f5144f3f83": {
          "model_module": "@jupyter-widgets/controls",
          "model_name": "ProgressStyleModel",
          "state": {
            "_view_name": "StyleView",
            "_model_name": "ProgressStyleModel",
            "description_width": "initial",
            "_view_module": "@jupyter-widgets/base",
            "_model_module_version": "1.5.0",
            "_view_count": null,
            "_view_module_version": "1.2.0",
            "bar_color": null,
            "_model_module": "@jupyter-widgets/controls"
          }
        },
        "b20d15cce41d423d95369b0885cbaacf": {
          "model_module": "@jupyter-widgets/base",
          "model_name": "LayoutModel",
          "state": {
            "_view_name": "LayoutView",
            "grid_template_rows": null,
            "right": null,
            "justify_content": null,
            "_view_module": "@jupyter-widgets/base",
            "overflow": null,
            "_model_module_version": "1.2.0",
            "_view_count": null,
            "flex_flow": null,
            "width": null,
            "min_width": null,
            "border": null,
            "align_items": null,
            "bottom": null,
            "_model_module": "@jupyter-widgets/base",
            "top": null,
            "grid_column": null,
            "overflow_y": null,
            "overflow_x": null,
            "grid_auto_flow": null,
            "grid_area": null,
            "grid_template_columns": null,
            "flex": null,
            "_model_name": "LayoutModel",
            "justify_items": null,
            "grid_row": null,
            "max_height": null,
            "align_content": null,
            "visibility": null,
            "align_self": null,
            "height": null,
            "min_height": null,
            "padding": null,
            "grid_auto_rows": null,
            "grid_gap": null,
            "max_width": null,
            "order": null,
            "_view_module_version": "1.2.0",
            "grid_template_areas": null,
            "object_position": null,
            "object_fit": null,
            "grid_auto_columns": null,
            "margin": null,
            "display": null,
            "left": null
          }
        },
        "e0295d9de5324dc0a9401ea8c923ca75": {
          "model_module": "@jupyter-widgets/controls",
          "model_name": "DescriptionStyleModel",
          "state": {
            "_view_name": "StyleView",
            "_model_name": "DescriptionStyleModel",
            "description_width": "",
            "_view_module": "@jupyter-widgets/base",
            "_model_module_version": "1.5.0",
            "_view_count": null,
            "_view_module_version": "1.2.0",
            "_model_module": "@jupyter-widgets/controls"
          }
        },
        "28efc2b8da37403db7436a215b333209": {
          "model_module": "@jupyter-widgets/base",
          "model_name": "LayoutModel",
          "state": {
            "_view_name": "LayoutView",
            "grid_template_rows": null,
            "right": null,
            "justify_content": null,
            "_view_module": "@jupyter-widgets/base",
            "overflow": null,
            "_model_module_version": "1.2.0",
            "_view_count": null,
            "flex_flow": null,
            "width": null,
            "min_width": null,
            "border": null,
            "align_items": null,
            "bottom": null,
            "_model_module": "@jupyter-widgets/base",
            "top": null,
            "grid_column": null,
            "overflow_y": null,
            "overflow_x": null,
            "grid_auto_flow": null,
            "grid_area": null,
            "grid_template_columns": null,
            "flex": null,
            "_model_name": "LayoutModel",
            "justify_items": null,
            "grid_row": null,
            "max_height": null,
            "align_content": null,
            "visibility": null,
            "align_self": null,
            "height": null,
            "min_height": null,
            "padding": null,
            "grid_auto_rows": null,
            "grid_gap": null,
            "max_width": null,
            "order": null,
            "_view_module_version": "1.2.0",
            "grid_template_areas": null,
            "object_position": null,
            "object_fit": null,
            "grid_auto_columns": null,
            "margin": null,
            "display": null,
            "left": null
          }
        },
        "df85446ca08b46f9b38b8df2beff3b73": {
          "model_module": "@jupyter-widgets/controls",
          "model_name": "HBoxModel",
          "state": {
            "_view_name": "HBoxView",
            "_dom_classes": [],
            "_model_name": "HBoxModel",
            "_view_module": "@jupyter-widgets/controls",
            "_model_module_version": "1.5.0",
            "_view_count": null,
            "_view_module_version": "1.5.0",
            "box_style": "",
            "layout": "IPY_MODEL_c1f65cdc0e174dfca6d5f94b52bce08a",
            "_model_module": "@jupyter-widgets/controls",
            "children": [
              "IPY_MODEL_be6ee487797544949f1ad88b6fdcc146",
              "IPY_MODEL_e5915badb0af44f0b3b8e7996e26a580"
            ]
          }
        },
        "c1f65cdc0e174dfca6d5f94b52bce08a": {
          "model_module": "@jupyter-widgets/base",
          "model_name": "LayoutModel",
          "state": {
            "_view_name": "LayoutView",
            "grid_template_rows": null,
            "right": null,
            "justify_content": null,
            "_view_module": "@jupyter-widgets/base",
            "overflow": null,
            "_model_module_version": "1.2.0",
            "_view_count": null,
            "flex_flow": null,
            "width": null,
            "min_width": null,
            "border": null,
            "align_items": null,
            "bottom": null,
            "_model_module": "@jupyter-widgets/base",
            "top": null,
            "grid_column": null,
            "overflow_y": null,
            "overflow_x": null,
            "grid_auto_flow": null,
            "grid_area": null,
            "grid_template_columns": null,
            "flex": null,
            "_model_name": "LayoutModel",
            "justify_items": null,
            "grid_row": null,
            "max_height": null,
            "align_content": null,
            "visibility": null,
            "align_self": null,
            "height": null,
            "min_height": null,
            "padding": null,
            "grid_auto_rows": null,
            "grid_gap": null,
            "max_width": null,
            "order": null,
            "_view_module_version": "1.2.0",
            "grid_template_areas": null,
            "object_position": null,
            "object_fit": null,
            "grid_auto_columns": null,
            "margin": null,
            "display": null,
            "left": null
          }
        },
        "be6ee487797544949f1ad88b6fdcc146": {
          "model_module": "@jupyter-widgets/controls",
          "model_name": "IntProgressModel",
          "state": {
            "_view_name": "ProgressView",
            "style": "IPY_MODEL_392f759ee4a845ce8a035cc82f8e2c51",
            "_dom_classes": [],
            "description": "100%",
            "_model_name": "IntProgressModel",
            "bar_style": "success",
            "max": 73095,
            "_view_module": "@jupyter-widgets/controls",
            "_model_module_version": "1.5.0",
            "value": 73095,
            "_view_count": null,
            "_view_module_version": "1.5.0",
            "orientation": "horizontal",
            "min": 0,
            "description_tooltip": null,
            "_model_module": "@jupyter-widgets/controls",
            "layout": "IPY_MODEL_da725793624b4c8385f83989704d3b66"
          }
        },
        "e5915badb0af44f0b3b8e7996e26a580": {
          "model_module": "@jupyter-widgets/controls",
          "model_name": "HTMLModel",
          "state": {
            "_view_name": "HTMLView",
            "style": "IPY_MODEL_f74272d0c30645aca44668eecf3af27b",
            "_dom_classes": [],
            "description": "",
            "_model_name": "HTMLModel",
            "placeholder": "​",
            "_view_module": "@jupyter-widgets/controls",
            "_model_module_version": "1.5.0",
            "value": " 73095/73095 [04:03&lt;00:00, 300.31it/s]",
            "_view_count": null,
            "_view_module_version": "1.5.0",
            "description_tooltip": null,
            "_model_module": "@jupyter-widgets/controls",
            "layout": "IPY_MODEL_fb3660ff22a44f4490006dd098b2fa71"
          }
        },
        "392f759ee4a845ce8a035cc82f8e2c51": {
          "model_module": "@jupyter-widgets/controls",
          "model_name": "ProgressStyleModel",
          "state": {
            "_view_name": "StyleView",
            "_model_name": "ProgressStyleModel",
            "description_width": "initial",
            "_view_module": "@jupyter-widgets/base",
            "_model_module_version": "1.5.0",
            "_view_count": null,
            "_view_module_version": "1.2.0",
            "bar_color": null,
            "_model_module": "@jupyter-widgets/controls"
          }
        },
        "da725793624b4c8385f83989704d3b66": {
          "model_module": "@jupyter-widgets/base",
          "model_name": "LayoutModel",
          "state": {
            "_view_name": "LayoutView",
            "grid_template_rows": null,
            "right": null,
            "justify_content": null,
            "_view_module": "@jupyter-widgets/base",
            "overflow": null,
            "_model_module_version": "1.2.0",
            "_view_count": null,
            "flex_flow": null,
            "width": null,
            "min_width": null,
            "border": null,
            "align_items": null,
            "bottom": null,
            "_model_module": "@jupyter-widgets/base",
            "top": null,
            "grid_column": null,
            "overflow_y": null,
            "overflow_x": null,
            "grid_auto_flow": null,
            "grid_area": null,
            "grid_template_columns": null,
            "flex": null,
            "_model_name": "LayoutModel",
            "justify_items": null,
            "grid_row": null,
            "max_height": null,
            "align_content": null,
            "visibility": null,
            "align_self": null,
            "height": null,
            "min_height": null,
            "padding": null,
            "grid_auto_rows": null,
            "grid_gap": null,
            "max_width": null,
            "order": null,
            "_view_module_version": "1.2.0",
            "grid_template_areas": null,
            "object_position": null,
            "object_fit": null,
            "grid_auto_columns": null,
            "margin": null,
            "display": null,
            "left": null
          }
        },
        "f74272d0c30645aca44668eecf3af27b": {
          "model_module": "@jupyter-widgets/controls",
          "model_name": "DescriptionStyleModel",
          "state": {
            "_view_name": "StyleView",
            "_model_name": "DescriptionStyleModel",
            "description_width": "",
            "_view_module": "@jupyter-widgets/base",
            "_model_module_version": "1.5.0",
            "_view_count": null,
            "_view_module_version": "1.2.0",
            "_model_module": "@jupyter-widgets/controls"
          }
        },
        "fb3660ff22a44f4490006dd098b2fa71": {
          "model_module": "@jupyter-widgets/base",
          "model_name": "LayoutModel",
          "state": {
            "_view_name": "LayoutView",
            "grid_template_rows": null,
            "right": null,
            "justify_content": null,
            "_view_module": "@jupyter-widgets/base",
            "overflow": null,
            "_model_module_version": "1.2.0",
            "_view_count": null,
            "flex_flow": null,
            "width": null,
            "min_width": null,
            "border": null,
            "align_items": null,
            "bottom": null,
            "_model_module": "@jupyter-widgets/base",
            "top": null,
            "grid_column": null,
            "overflow_y": null,
            "overflow_x": null,
            "grid_auto_flow": null,
            "grid_area": null,
            "grid_template_columns": null,
            "flex": null,
            "_model_name": "LayoutModel",
            "justify_items": null,
            "grid_row": null,
            "max_height": null,
            "align_content": null,
            "visibility": null,
            "align_self": null,
            "height": null,
            "min_height": null,
            "padding": null,
            "grid_auto_rows": null,
            "grid_gap": null,
            "max_width": null,
            "order": null,
            "_view_module_version": "1.2.0",
            "grid_template_areas": null,
            "object_position": null,
            "object_fit": null,
            "grid_auto_columns": null,
            "margin": null,
            "display": null,
            "left": null
          }
        }
      }
    }
  },
  "cells": [
    {
      "cell_type": "markdown",
      "metadata": {
        "id": "view-in-github",
        "colab_type": "text"
      },
      "source": [
        "<a href=\"https://colab.research.google.com/github/andBabaev/git_learn/blob/master/fontoto_cupones.ipynb\" target=\"_parent\"><img src=\"https://colab.research.google.com/assets/colab-badge.svg\" alt=\"Open In Colab\"/></a>"
      ]
    },
    {
      "cell_type": "code",
      "metadata": {
        "id": "pTQ9j1BvxLlL",
        "colab_type": "code",
        "outputId": "4ace3039-f378-48ca-a4bd-aff0727af2ff",
        "colab": {
          "base_uri": "https://localhost:8080/",
          "height": 217
        }
      },
      "source": [
        "!wget 'https://clientsapi11.bkfon-resource.ru/superexpress-info/list/ru/484/kvits.htm'"
      ],
      "execution_count": 0,
      "outputs": [
        {
          "output_type": "stream",
          "text": [
            "--2020-04-15 09:41:43--  https://clientsapi11.bkfon-resource.ru/superexpress-info/list/ru/484/kvits.htm\n",
            "Resolving clientsapi11.bkfon-resource.ru (clientsapi11.bkfon-resource.ru)... 188.42.29.150\n",
            "Connecting to clientsapi11.bkfon-resource.ru (clientsapi11.bkfon-resource.ru)|188.42.29.150|:443... connected.\n",
            "HTTP request sent, awaiting response... 200 OK\n",
            "Length: 3959247 (3.8M) [text/html]\n",
            "Saving to: ‘kvits.htm.1’\n",
            "\n",
            "kvits.htm.1         100%[===================>]   3.78M  3.10MB/s    in 1.2s    \n",
            "\n",
            "2020-04-15 09:41:46 (3.10 MB/s) - ‘kvits.htm.1’ saved [3959247/3959247]\n",
            "\n"
          ],
          "name": "stdout"
        }
      ]
    },
    {
      "cell_type": "code",
      "metadata": {
        "id": "uXlq-ttmzMt8",
        "colab_type": "code",
        "outputId": "d4945858-ce19-409c-bdef-ce94fbfbe4fe",
        "colab": {
          "base_uri": "https://localhost:8080/",
          "height": 74
        }
      },
      "source": [
        "from copy import deepcopy\n",
        "from bs4 import BeautifulSoup\n",
        "from tqdm import tqdm_notebook as tqdm\n",
        "from collections import Counter\n",
        "import pandas as pd\n",
        "import numpy as np\n",
        "import seaborn as sns\n"
      ],
      "execution_count": 0,
      "outputs": [
        {
          "output_type": "stream",
          "text": [
            "/usr/local/lib/python3.6/dist-packages/statsmodels/tools/_testing.py:19: FutureWarning: pandas.util.testing is deprecated. Use the functions in the public API at pandas.testing instead.\n",
            "  import pandas.util.testing as tm\n"
          ],
          "name": "stderr"
        }
      ]
    },
    {
      "cell_type": "code",
      "metadata": {
        "id": "IyEA2o56zRdn",
        "colab_type": "code",
        "colab": {}
      },
      "source": [
        "with open('kvits.htm', 'r', encoding = \"cp1251\") as f:\n",
        "  content = f.read()\n",
        "  soup = BeautifulSoup(content, 'lxml')"
      ],
      "execution_count": 0,
      "outputs": []
    },
    {
      "cell_type": "code",
      "metadata": {
        "id": "KSwH4Sxm2hY2",
        "colab_type": "code",
        "outputId": "39ffd735-b951-449f-8b89-c72868d4406f",
        "colab": {
          "base_uri": "https://localhost:8080/",
          "height": 35
        }
      },
      "source": [
        "info = soup.findAll('b')\n",
        "_, _, num_draw, date_draw, time_draw = info[0].text.split()\n",
        "num_draw, date_draw, time_draw"
      ],
      "execution_count": 0,
      "outputs": [
        {
          "output_type": "execute_result",
          "data": {
            "text/plain": [
              "('484.', '14.04.2020', '21:45')"
            ]
          },
          "metadata": {
            "tags": []
          },
          "execution_count": 7
        }
      ]
    },
    {
      "cell_type": "markdown",
      "metadata": {
        "id": "q_-ALDL_eFtN",
        "colab_type": "text"
      },
      "source": [
        "ФОН-Тото+. Тираж 389. 02.02.2020 17:30\n",
        "Футбол. Испания. Премьер-Лига\n",
        "Футбол. Испания. Сегунда\n",
        "Футбол. Германия. Бундеслига\n",
        "Футбол. Италия. Серия А\n",
        "Футбол. Франция. Премьер-Лига\n",
        "Футбол. Швейцария. Суперлига\n",
        "Хоккей. НХЛ\n",
        "Принято карточек 259 646, число вариантов  535 720, общая сумма 24 515 416\n",
        "Список карточек"
      ]
    },
    {
      "cell_type": "code",
      "metadata": {
        "id": "42mJC3f6MU3Z",
        "colab_type": "code",
        "outputId": "1a4aa866-2095-435e-8735-776b5749618b",
        "colab": {
          "base_uri": "https://localhost:8080/",
          "height": 54
        }
      },
      "source": [
        "%%time\n",
        "rows = []\n",
        "for row in content.strip().split('\\n')[38:-3]:\n",
        "  num_coupon, _, _, prediction = row.split()\n",
        "  #print(num_coupon, prediction)\n",
        "  #rows.append(row.split())\n",
        "  rows.append([num_coupon, prediction])"
      ],
      "execution_count": 0,
      "outputs": [
        {
          "output_type": "stream",
          "text": [
            "CPU times: user 332 ms, sys: 10.1 ms, total: 342 ms\n",
            "Wall time: 341 ms\n"
          ],
          "name": "stdout"
        }
      ]
    },
    {
      "cell_type": "code",
      "metadata": {
        "id": "U0VVvY2MczwK",
        "colab_type": "code",
        "outputId": "82b7de92-da2c-4306-a91b-de34fb8af347",
        "colab": {
          "base_uri": "https://localhost:8080/",
          "height": 199
        }
      },
      "source": [
        "rows[:10]"
      ],
      "execution_count": 0,
      "outputs": [
        {
          "output_type": "execute_result",
          "data": {
            "text/plain": [
              "[['19', '[2,1,2,1,X,2,X,1,2,1,1,1,1,2,1]'],\n",
              " ['26', '[X,X,1,1,1,X,1,2,X,X,1,2,X,X,1]'],\n",
              " ['33', '[1,2,1,X,1,1,2,1,1,2,X,1,1,2,X]'],\n",
              " ['40', '[X,1,1,X,2,1,X,2,1,2,1,X,2,2,X]'],\n",
              " ['57', '[X,1,1,2,1,X,2,2,1,1,1,X,X,1,2]'],\n",
              " ['64', '[1,2,1,X,1,2,1,1,1,2,1,1,2,X,1]'],\n",
              " ['71', '[2,X,2,1,1,1,2,2,X,1,1,X,1,2,X]'],\n",
              " ['88', '[2,2,X,X,2,X,2,1,1,X,2,1,2,1,2]'],\n",
              " ['95', '[1,2,2,1,2,1,2,2,1,1,X,1,X,2,X]'],\n",
              " ['103', '[1,2,X,2,1,2,X,2,1,2,1,2,1,X,2]']]"
            ]
          },
          "metadata": {
            "tags": []
          },
          "execution_count": 11
        }
      ]
    },
    {
      "cell_type": "code",
      "metadata": {
        "id": "azAEzXzzYPEH",
        "colab_type": "code",
        "outputId": "77481ece-7fa4-40dd-e3b2-b502c43e3277",
        "colab": {
          "base_uri": "https://localhost:8080/",
          "height": 142,
          "referenced_widgets": [
            "4d4d95639ab04138950dac25cdb67f17",
            "7776d094204047f38e315b44913ddaac",
            "e56a14ed71b64d80ade93c170cd506a3",
            "cd12ccdd389c4374a5ff10c5a4bd36ef",
            "fe4fdf4a54d34585a5e375f5144f3f83",
            "b20d15cce41d423d95369b0885cbaacf",
            "e0295d9de5324dc0a9401ea8c923ca75",
            "28efc2b8da37403db7436a215b333209"
          ]
        }
      },
      "source": [
        "#all_variants без номера тиража\n",
        "\n",
        "all_variants = []\n",
        "for _, row in tqdm(rows):\n",
        "  list_ = []\n",
        "  row = row.replace('[','').replace(']','').split(',')\n",
        "  for match in row:\n",
        "    if len(match) > 1:\n",
        "      if list_:\n",
        "        temp = deepcopy(list_)\n",
        "        list_ = []\n",
        "        for res in match:\n",
        "          for elem in temp:\n",
        "            list_.append(elem+res)\n",
        "      else:\n",
        "        for res in match:\n",
        "            list_.append(res)\n",
        "\n",
        "    else:\n",
        "      if list_:\n",
        "        for i in range(len(list_)):\n",
        "          list_[i] += match\n",
        "      else:\n",
        "        list_.append(match)\n",
        "\n",
        "  all_variants.extend(list_)"
      ],
      "execution_count": 0,
      "outputs": [
        {
          "output_type": "stream",
          "text": [
            "/usr/local/lib/python3.6/dist-packages/ipykernel_launcher.py:3: TqdmDeprecationWarning: This function will be removed in tqdm==5.0.0\n",
            "Please use `tqdm.notebook.tqdm` instead of `tqdm.tqdm_notebook`\n",
            "  This is separate from the ipykernel package so we can avoid doing imports until\n"
          ],
          "name": "stderr"
        },
        {
          "output_type": "display_data",
          "data": {
            "application/vnd.jupyter.widget-view+json": {
              "model_id": "4d4d95639ab04138950dac25cdb67f17",
              "version_minor": 0,
              "version_major": 2
            },
            "text/plain": [
              "HBox(children=(IntProgress(value=0, max=73095), HTML(value='')))"
            ]
          },
          "metadata": {
            "tags": []
          }
        },
        {
          "output_type": "stream",
          "text": [
            "\n"
          ],
          "name": "stdout"
        }
      ]
    },
    {
      "cell_type": "code",
      "metadata": {
        "id": "UKaCGgWpkUwV",
        "colab_type": "code",
        "outputId": "afc5f2ea-0b4b-4045-92ec-1ef862b017ce",
        "colab": {
          "base_uri": "https://localhost:8080/",
          "height": 199
        }
      },
      "source": [
        "c = Counter(all_variants)\n",
        "c.most_common(10)"
      ],
      "execution_count": 0,
      "outputs": [
        {
          "output_type": "execute_result",
          "data": {
            "text/plain": [
              "[('111111111111111', 299),\n",
              " ('222222222222222', 243),\n",
              " ('212121211212111', 197),\n",
              " ('XXXXXXXXXXXXXXX', 156),\n",
              " ('212121211111111', 121),\n",
              " ('212221211112111', 118),\n",
              " ('212221211111111', 85),\n",
              " ('212221211212111', 78),\n",
              " ('212121211112111', 62),\n",
              " ('212121212121212', 57)]"
            ]
          },
          "metadata": {
            "tags": []
          },
          "execution_count": 13
        }
      ]
    },
    {
      "cell_type": "code",
      "metadata": {
        "id": "hdb73EuiohX3",
        "colab_type": "code",
        "outputId": "4e482b76-bbcb-4f80-f0c0-d5def894a1a3",
        "colab": {
          "base_uri": "https://localhost:8080/",
          "height": 142,
          "referenced_widgets": [
            "df85446ca08b46f9b38b8df2beff3b73",
            "c1f65cdc0e174dfca6d5f94b52bce08a",
            "be6ee487797544949f1ad88b6fdcc146",
            "e5915badb0af44f0b3b8e7996e26a580",
            "392f759ee4a845ce8a035cc82f8e2c51",
            "da725793624b4c8385f83989704d3b66",
            "f74272d0c30645aca44668eecf3af27b",
            "fb3660ff22a44f4490006dd098b2fa71"
          ]
        }
      },
      "source": [
        "#all_variants с номером тиража\n",
        "\n",
        "all_variants = []\n",
        "for num_draw, row in tqdm(rows):\n",
        "  list_ = []\n",
        "  row = row.replace('[','').replace(']','').split(',')\n",
        "  for match in row:\n",
        "    if len(match) > 1:\n",
        "      if list_:\n",
        "        temp = deepcopy(list_)\n",
        "        list_ = []\n",
        "        for res in match:\n",
        "          for _, elem in temp:\n",
        "            list_.append([num_draw, elem+res])\n",
        "      else:\n",
        "        for res in match:\n",
        "            list_.append([num_draw, res])\n",
        "\n",
        "    else:\n",
        "      if list_:\n",
        "        for i in range(len(list_)):\n",
        "          list_[i][1] += match\n",
        "      else:\n",
        "        list_.append([num_draw, match])\n",
        "\n",
        "  all_variants.extend(list_)"
      ],
      "execution_count": 0,
      "outputs": [
        {
          "output_type": "stream",
          "text": [
            "/usr/local/lib/python3.6/dist-packages/ipykernel_launcher.py:3: TqdmDeprecationWarning: This function will be removed in tqdm==5.0.0\n",
            "Please use `tqdm.notebook.tqdm` instead of `tqdm.tqdm_notebook`\n",
            "  This is separate from the ipykernel package so we can avoid doing imports until\n"
          ],
          "name": "stderr"
        },
        {
          "output_type": "display_data",
          "data": {
            "application/vnd.jupyter.widget-view+json": {
              "model_id": "df85446ca08b46f9b38b8df2beff3b73",
              "version_minor": 0,
              "version_major": 2
            },
            "text/plain": [
              "HBox(children=(IntProgress(value=0, max=73095), HTML(value='')))"
            ]
          },
          "metadata": {
            "tags": []
          }
        },
        {
          "output_type": "stream",
          "text": [
            "\n"
          ],
          "name": "stdout"
        }
      ]
    },
    {
      "cell_type": "code",
      "metadata": {
        "id": "_cJoFbMkh1kQ",
        "colab_type": "code",
        "outputId": "aadb1ea5-67e5-480f-9860-54d9c6f1f04c",
        "colab": {
          "base_uri": "https://localhost:8080/",
          "height": 35
        }
      },
      "source": [
        "print(len(all_variants))"
      ],
      "execution_count": 0,
      "outputs": [
        {
          "output_type": "stream",
          "text": [
            "123524\n"
          ],
          "name": "stdout"
        }
      ]
    },
    {
      "cell_type": "code",
      "metadata": {
        "id": "lVMCnbiEmBsO",
        "colab_type": "code",
        "outputId": "eb09ecaf-fa92-485f-d22c-6ea498384581",
        "colab": {
          "base_uri": "https://localhost:8080/",
          "height": 35
        }
      },
      "source": [
        "true_res = '12XXXX1211XX2X2'\n",
        "print(len(true_res))"
      ],
      "execution_count": 0,
      "outputs": [
        {
          "output_type": "stream",
          "text": [
            "15\n"
          ],
          "name": "stdout"
        }
      ]
    },
    {
      "cell_type": "code",
      "metadata": {
        "id": "tQScKldWktQr",
        "colab_type": "code",
        "outputId": "446d9931-a898-4602-9d40-20d86492bb45",
        "colab": {
          "base_uri": "https://localhost:8080/",
          "height": 92
        }
      },
      "source": [
        "%%time\n",
        "'''for i, pred_res in enumerate(tqdm(all_variants)):\n",
        "  count = 0\n",
        "  for true, pred in zip(true_res, pred_res[1]):\n",
        "    if true == pred:\n",
        "      count += 1\n",
        "  all_variants[i].append(count)'''"
      ],
      "execution_count": 0,
      "outputs": [
        {
          "output_type": "stream",
          "text": [
            "CPU times: user 3 µs, sys: 0 ns, total: 3 µs\n",
            "Wall time: 6.91 µs\n"
          ],
          "name": "stdout"
        },
        {
          "output_type": "execute_result",
          "data": {
            "text/plain": [
              "'for i, pred_res in enumerate(tqdm(all_variants)):\\n  count = 0\\n  for true, pred in zip(true_res, pred_res[1]):\\n    if true == pred:\\n      count += 1\\n  all_variants[i].append(count)'"
            ]
          },
          "metadata": {
            "tags": []
          },
          "execution_count": 17
        }
      ]
    },
    {
      "cell_type": "code",
      "metadata": {
        "id": "JqmsbpwBqjBX",
        "colab_type": "code",
        "outputId": "12558a7c-a388-40b5-baca-6ac3d980a425",
        "colab": {
          "base_uri": "https://localhost:8080/",
          "height": 198
        }
      },
      "source": [
        "df = pd.DataFrame(all_variants, columns=['number_draw', 'prediction'])\n",
        "df['number_draw'] = df['number_draw'].astype(np.int32)\n",
        "df.head()"
      ],
      "execution_count": 0,
      "outputs": [
        {
          "output_type": "execute_result",
          "data": {
            "text/html": [
              "<div>\n",
              "<style scoped>\n",
              "    .dataframe tbody tr th:only-of-type {\n",
              "        vertical-align: middle;\n",
              "    }\n",
              "\n",
              "    .dataframe tbody tr th {\n",
              "        vertical-align: top;\n",
              "    }\n",
              "\n",
              "    .dataframe thead th {\n",
              "        text-align: right;\n",
              "    }\n",
              "</style>\n",
              "<table border=\"1\" class=\"dataframe\">\n",
              "  <thead>\n",
              "    <tr style=\"text-align: right;\">\n",
              "      <th></th>\n",
              "      <th>number_draw</th>\n",
              "      <th>prediction</th>\n",
              "    </tr>\n",
              "  </thead>\n",
              "  <tbody>\n",
              "    <tr>\n",
              "      <th>0</th>\n",
              "      <td>19</td>\n",
              "      <td>2121X2X12111121</td>\n",
              "    </tr>\n",
              "    <tr>\n",
              "      <th>1</th>\n",
              "      <td>26</td>\n",
              "      <td>XX111X12XX12XX1</td>\n",
              "    </tr>\n",
              "    <tr>\n",
              "      <th>2</th>\n",
              "      <td>33</td>\n",
              "      <td>121X112112X112X</td>\n",
              "    </tr>\n",
              "    <tr>\n",
              "      <th>3</th>\n",
              "      <td>40</td>\n",
              "      <td>X11X21X2121X22X</td>\n",
              "    </tr>\n",
              "    <tr>\n",
              "      <th>4</th>\n",
              "      <td>57</td>\n",
              "      <td>X1121X22111XX12</td>\n",
              "    </tr>\n",
              "  </tbody>\n",
              "</table>\n",
              "</div>"
            ],
            "text/plain": [
              "   number_draw       prediction\n",
              "0           19  2121X2X12111121\n",
              "1           26  XX111X12XX12XX1\n",
              "2           33  121X112112X112X\n",
              "3           40  X11X21X2121X22X\n",
              "4           57  X1121X22111XX12"
            ]
          },
          "metadata": {
            "tags": []
          },
          "execution_count": 18
        }
      ]
    },
    {
      "cell_type": "code",
      "metadata": {
        "id": "PySdzpGfr3Iw",
        "colab_type": "code",
        "outputId": "75ca2bcd-83fd-4996-ea9b-420fab3009dd",
        "colab": {
          "base_uri": "https://localhost:8080/",
          "height": 181
        }
      },
      "source": [
        "df.info()"
      ],
      "execution_count": 0,
      "outputs": [
        {
          "output_type": "stream",
          "text": [
            "<class 'pandas.core.frame.DataFrame'>\n",
            "RangeIndex: 123524 entries, 0 to 123523\n",
            "Data columns (total 2 columns):\n",
            " #   Column       Non-Null Count   Dtype \n",
            "---  ------       --------------   ----- \n",
            " 0   number_draw  123524 non-null  int32 \n",
            " 1   prediction   123524 non-null  object\n",
            "dtypes: int32(1), object(1)\n",
            "memory usage: 1.4+ MB\n"
          ],
          "name": "stdout"
        }
      ]
    },
    {
      "cell_type": "code",
      "metadata": {
        "id": "Ryo9OCJTcBct",
        "colab_type": "code",
        "colab": {}
      },
      "source": [
        "true_res = '2XXX2X2XX112211'\n",
        "def res_comparision(row):\n",
        "  count = 0\n",
        "  for true, pred in zip(true_res, row['prediction']):\n",
        "    if true == pred:\n",
        "      count += 1\n",
        "  return count"
      ],
      "execution_count": 0,
      "outputs": []
    },
    {
      "cell_type": "code",
      "metadata": {
        "id": "dYVvCJEorm7F",
        "colab_type": "code",
        "outputId": "671e0032-74bc-444a-92d9-86b65b049367",
        "colab": {
          "base_uri": "https://localhost:8080/",
          "height": 198
        }
      },
      "source": [
        "df['num_true_pred'] = df.apply(res_comparision, axis=1)\n",
        "df.head()"
      ],
      "execution_count": 0,
      "outputs": [
        {
          "output_type": "execute_result",
          "data": {
            "text/html": [
              "<div>\n",
              "<style scoped>\n",
              "    .dataframe tbody tr th:only-of-type {\n",
              "        vertical-align: middle;\n",
              "    }\n",
              "\n",
              "    .dataframe tbody tr th {\n",
              "        vertical-align: top;\n",
              "    }\n",
              "\n",
              "    .dataframe thead th {\n",
              "        text-align: right;\n",
              "    }\n",
              "</style>\n",
              "<table border=\"1\" class=\"dataframe\">\n",
              "  <thead>\n",
              "    <tr style=\"text-align: right;\">\n",
              "      <th></th>\n",
              "      <th>number_draw</th>\n",
              "      <th>prediction</th>\n",
              "      <th>num_true_pred</th>\n",
              "    </tr>\n",
              "  </thead>\n",
              "  <tbody>\n",
              "    <tr>\n",
              "      <th>0</th>\n",
              "      <td>19</td>\n",
              "      <td>2121X2X12111121</td>\n",
              "      <td>4</td>\n",
              "    </tr>\n",
              "    <tr>\n",
              "      <th>1</th>\n",
              "      <td>26</td>\n",
              "      <td>XX111X12XX12XX1</td>\n",
              "      <td>6</td>\n",
              "    </tr>\n",
              "    <tr>\n",
              "      <th>2</th>\n",
              "      <td>33</td>\n",
              "      <td>121X112112X112X</td>\n",
              "      <td>2</td>\n",
              "    </tr>\n",
              "    <tr>\n",
              "      <th>3</th>\n",
              "      <td>40</td>\n",
              "      <td>X11X21X2121X22X</td>\n",
              "      <td>4</td>\n",
              "    </tr>\n",
              "    <tr>\n",
              "      <th>4</th>\n",
              "      <td>57</td>\n",
              "      <td>X1121X22111XX12</td>\n",
              "      <td>5</td>\n",
              "    </tr>\n",
              "  </tbody>\n",
              "</table>\n",
              "</div>"
            ],
            "text/plain": [
              "   number_draw       prediction  num_true_pred\n",
              "0           19  2121X2X12111121              4\n",
              "1           26  XX111X12XX12XX1              6\n",
              "2           33  121X112112X112X              2\n",
              "3           40  X11X21X2121X22X              4\n",
              "4           57  X1121X22111XX12              5"
            ]
          },
          "metadata": {
            "tags": []
          },
          "execution_count": 21
        }
      ]
    },
    {
      "cell_type": "code",
      "metadata": {
        "id": "fAtBIfsMuORM",
        "colab_type": "code",
        "outputId": "8e5d4ea3-3a50-4931-f3a7-28164542d9a1",
        "colab": {
          "base_uri": "https://localhost:8080/",
          "height": 198
        }
      },
      "source": [
        "pred_counter = df.prediction.value_counts()\n",
        "df['frequency_result'] = df.apply(lambda row: pred_counter[row['prediction']], axis=1)\n",
        "df.head()"
      ],
      "execution_count": 0,
      "outputs": [
        {
          "output_type": "execute_result",
          "data": {
            "text/html": [
              "<div>\n",
              "<style scoped>\n",
              "    .dataframe tbody tr th:only-of-type {\n",
              "        vertical-align: middle;\n",
              "    }\n",
              "\n",
              "    .dataframe tbody tr th {\n",
              "        vertical-align: top;\n",
              "    }\n",
              "\n",
              "    .dataframe thead th {\n",
              "        text-align: right;\n",
              "    }\n",
              "</style>\n",
              "<table border=\"1\" class=\"dataframe\">\n",
              "  <thead>\n",
              "    <tr style=\"text-align: right;\">\n",
              "      <th></th>\n",
              "      <th>number_draw</th>\n",
              "      <th>prediction</th>\n",
              "      <th>num_true_pred</th>\n",
              "      <th>frequency_result</th>\n",
              "    </tr>\n",
              "  </thead>\n",
              "  <tbody>\n",
              "    <tr>\n",
              "      <th>0</th>\n",
              "      <td>19</td>\n",
              "      <td>2121X2X12111121</td>\n",
              "      <td>4</td>\n",
              "      <td>18</td>\n",
              "    </tr>\n",
              "    <tr>\n",
              "      <th>1</th>\n",
              "      <td>26</td>\n",
              "      <td>XX111X12XX12XX1</td>\n",
              "      <td>6</td>\n",
              "      <td>1</td>\n",
              "    </tr>\n",
              "    <tr>\n",
              "      <th>2</th>\n",
              "      <td>33</td>\n",
              "      <td>121X112112X112X</td>\n",
              "      <td>2</td>\n",
              "      <td>1</td>\n",
              "    </tr>\n",
              "    <tr>\n",
              "      <th>3</th>\n",
              "      <td>40</td>\n",
              "      <td>X11X21X2121X22X</td>\n",
              "      <td>4</td>\n",
              "      <td>4</td>\n",
              "    </tr>\n",
              "    <tr>\n",
              "      <th>4</th>\n",
              "      <td>57</td>\n",
              "      <td>X1121X22111XX12</td>\n",
              "      <td>5</td>\n",
              "      <td>1</td>\n",
              "    </tr>\n",
              "  </tbody>\n",
              "</table>\n",
              "</div>"
            ],
            "text/plain": [
              "   number_draw       prediction  num_true_pred  frequency_result\n",
              "0           19  2121X2X12111121              4                18\n",
              "1           26  XX111X12XX12XX1              6                 1\n",
              "2           33  121X112112X112X              2                 1\n",
              "3           40  X11X21X2121X22X              4                 4\n",
              "4           57  X1121X22111XX12              5                 1"
            ]
          },
          "metadata": {
            "tags": []
          },
          "execution_count": 22
        }
      ]
    },
    {
      "cell_type": "code",
      "metadata": {
        "id": "4ckkQalmH-Bl",
        "colab_type": "code",
        "outputId": "635aa41b-dc2f-4fc8-e848-0c58715471e4",
        "colab": {
          "base_uri": "https://localhost:8080/",
          "height": 199
        }
      },
      "source": [
        "%%time\n",
        "temp_list = []\n",
        "for i in df.prediction.values.tolist():\n",
        "  temp_list.append(list(i))\n",
        "\n",
        "col_temp = ['game_%s' % i for i in range(1,16)]\n",
        "temp_df = pd.DataFrame(temp_list,columns=col_temp, index=df.index)\n",
        "print(temp_df.head())"
      ],
      "execution_count": 0,
      "outputs": [
        {
          "output_type": "stream",
          "text": [
            "  game_1 game_2 game_3 game_4 game_5  ... game_11 game_12 game_13 game_14 game_15\n",
            "0      2      1      2      1      X  ...       1       1       1       2       1\n",
            "1      X      X      1      1      1  ...       1       2       X       X       1\n",
            "2      1      2      1      X      1  ...       X       1       1       2       X\n",
            "3      X      1      1      X      2  ...       1       X       2       2       X\n",
            "4      X      1      1      2      1  ...       1       X       X       1       2\n",
            "\n",
            "[5 rows x 15 columns]\n",
            "CPU times: user 495 ms, sys: 26.8 ms, total: 522 ms\n",
            "Wall time: 521 ms\n"
          ],
          "name": "stdout"
        }
      ]
    },
    {
      "cell_type": "code",
      "metadata": {
        "id": "MPOrT1aCKFXP",
        "colab_type": "code",
        "outputId": "d780b8cb-fb20-4c2c-f0d9-aa90d4394a57",
        "colab": {
          "base_uri": "https://localhost:8080/",
          "height": 218
        }
      },
      "source": [
        "df = pd.concat([df, temp_df], axis=1)\n",
        "df.head()"
      ],
      "execution_count": 0,
      "outputs": [
        {
          "output_type": "execute_result",
          "data": {
            "text/html": [
              "<div>\n",
              "<style scoped>\n",
              "    .dataframe tbody tr th:only-of-type {\n",
              "        vertical-align: middle;\n",
              "    }\n",
              "\n",
              "    .dataframe tbody tr th {\n",
              "        vertical-align: top;\n",
              "    }\n",
              "\n",
              "    .dataframe thead th {\n",
              "        text-align: right;\n",
              "    }\n",
              "</style>\n",
              "<table border=\"1\" class=\"dataframe\">\n",
              "  <thead>\n",
              "    <tr style=\"text-align: right;\">\n",
              "      <th></th>\n",
              "      <th>number_draw</th>\n",
              "      <th>prediction</th>\n",
              "      <th>num_true_pred</th>\n",
              "      <th>frequency_result</th>\n",
              "      <th>game_1</th>\n",
              "      <th>game_2</th>\n",
              "      <th>game_3</th>\n",
              "      <th>game_4</th>\n",
              "      <th>game_5</th>\n",
              "      <th>game_6</th>\n",
              "      <th>game_7</th>\n",
              "      <th>game_8</th>\n",
              "      <th>game_9</th>\n",
              "      <th>game_10</th>\n",
              "      <th>game_11</th>\n",
              "      <th>game_12</th>\n",
              "      <th>game_13</th>\n",
              "      <th>game_14</th>\n",
              "      <th>game_15</th>\n",
              "    </tr>\n",
              "  </thead>\n",
              "  <tbody>\n",
              "    <tr>\n",
              "      <th>0</th>\n",
              "      <td>19</td>\n",
              "      <td>2121X2X12111121</td>\n",
              "      <td>4</td>\n",
              "      <td>18</td>\n",
              "      <td>2</td>\n",
              "      <td>1</td>\n",
              "      <td>2</td>\n",
              "      <td>1</td>\n",
              "      <td>X</td>\n",
              "      <td>2</td>\n",
              "      <td>X</td>\n",
              "      <td>1</td>\n",
              "      <td>2</td>\n",
              "      <td>1</td>\n",
              "      <td>1</td>\n",
              "      <td>1</td>\n",
              "      <td>1</td>\n",
              "      <td>2</td>\n",
              "      <td>1</td>\n",
              "    </tr>\n",
              "    <tr>\n",
              "      <th>1</th>\n",
              "      <td>26</td>\n",
              "      <td>XX111X12XX12XX1</td>\n",
              "      <td>6</td>\n",
              "      <td>1</td>\n",
              "      <td>X</td>\n",
              "      <td>X</td>\n",
              "      <td>1</td>\n",
              "      <td>1</td>\n",
              "      <td>1</td>\n",
              "      <td>X</td>\n",
              "      <td>1</td>\n",
              "      <td>2</td>\n",
              "      <td>X</td>\n",
              "      <td>X</td>\n",
              "      <td>1</td>\n",
              "      <td>2</td>\n",
              "      <td>X</td>\n",
              "      <td>X</td>\n",
              "      <td>1</td>\n",
              "    </tr>\n",
              "    <tr>\n",
              "      <th>2</th>\n",
              "      <td>33</td>\n",
              "      <td>121X112112X112X</td>\n",
              "      <td>2</td>\n",
              "      <td>1</td>\n",
              "      <td>1</td>\n",
              "      <td>2</td>\n",
              "      <td>1</td>\n",
              "      <td>X</td>\n",
              "      <td>1</td>\n",
              "      <td>1</td>\n",
              "      <td>2</td>\n",
              "      <td>1</td>\n",
              "      <td>1</td>\n",
              "      <td>2</td>\n",
              "      <td>X</td>\n",
              "      <td>1</td>\n",
              "      <td>1</td>\n",
              "      <td>2</td>\n",
              "      <td>X</td>\n",
              "    </tr>\n",
              "    <tr>\n",
              "      <th>3</th>\n",
              "      <td>40</td>\n",
              "      <td>X11X21X2121X22X</td>\n",
              "      <td>4</td>\n",
              "      <td>4</td>\n",
              "      <td>X</td>\n",
              "      <td>1</td>\n",
              "      <td>1</td>\n",
              "      <td>X</td>\n",
              "      <td>2</td>\n",
              "      <td>1</td>\n",
              "      <td>X</td>\n",
              "      <td>2</td>\n",
              "      <td>1</td>\n",
              "      <td>2</td>\n",
              "      <td>1</td>\n",
              "      <td>X</td>\n",
              "      <td>2</td>\n",
              "      <td>2</td>\n",
              "      <td>X</td>\n",
              "    </tr>\n",
              "    <tr>\n",
              "      <th>4</th>\n",
              "      <td>57</td>\n",
              "      <td>X1121X22111XX12</td>\n",
              "      <td>5</td>\n",
              "      <td>1</td>\n",
              "      <td>X</td>\n",
              "      <td>1</td>\n",
              "      <td>1</td>\n",
              "      <td>2</td>\n",
              "      <td>1</td>\n",
              "      <td>X</td>\n",
              "      <td>2</td>\n",
              "      <td>2</td>\n",
              "      <td>1</td>\n",
              "      <td>1</td>\n",
              "      <td>1</td>\n",
              "      <td>X</td>\n",
              "      <td>X</td>\n",
              "      <td>1</td>\n",
              "      <td>2</td>\n",
              "    </tr>\n",
              "  </tbody>\n",
              "</table>\n",
              "</div>"
            ],
            "text/plain": [
              "   number_draw       prediction  num_true_pred  ...  game_13 game_14 game_15\n",
              "0           19  2121X2X12111121              4  ...        1       2       1\n",
              "1           26  XX111X12XX12XX1              6  ...        X       X       1\n",
              "2           33  121X112112X112X              2  ...        1       2       X\n",
              "3           40  X11X21X2121X22X              4  ...        2       2       X\n",
              "4           57  X1121X22111XX12              5  ...        X       1       2\n",
              "\n",
              "[5 rows x 19 columns]"
            ]
          },
          "metadata": {
            "tags": []
          },
          "execution_count": 24
        }
      ]
    },
    {
      "cell_type": "code",
      "metadata": {
        "id": "1J-SifjM8s7a",
        "colab_type": "code",
        "outputId": "65754e78-c66b-491e-cefb-b962469aaf3c",
        "colab": {
          "base_uri": "https://localhost:8080/",
          "height": 378
        }
      },
      "source": [
        "temp_df = df[(df.frequency_result<11)]\n",
        "pd.crosstab(temp_df.frequency_result, temp_df.num_true_pred)"
      ],
      "execution_count": 0,
      "outputs": [
        {
          "output_type": "execute_result",
          "data": {
            "text/html": [
              "<div>\n",
              "<style scoped>\n",
              "    .dataframe tbody tr th:only-of-type {\n",
              "        vertical-align: middle;\n",
              "    }\n",
              "\n",
              "    .dataframe tbody tr th {\n",
              "        vertical-align: top;\n",
              "    }\n",
              "\n",
              "    .dataframe thead th {\n",
              "        text-align: right;\n",
              "    }\n",
              "</style>\n",
              "<table border=\"1\" class=\"dataframe\">\n",
              "  <thead>\n",
              "    <tr style=\"text-align: right;\">\n",
              "      <th>num_true_pred</th>\n",
              "      <th>0</th>\n",
              "      <th>1</th>\n",
              "      <th>2</th>\n",
              "      <th>3</th>\n",
              "      <th>4</th>\n",
              "      <th>5</th>\n",
              "      <th>6</th>\n",
              "      <th>7</th>\n",
              "      <th>8</th>\n",
              "      <th>9</th>\n",
              "      <th>10</th>\n",
              "      <th>11</th>\n",
              "      <th>12</th>\n",
              "      <th>13</th>\n",
              "    </tr>\n",
              "    <tr>\n",
              "      <th>frequency_result</th>\n",
              "      <th></th>\n",
              "      <th></th>\n",
              "      <th></th>\n",
              "      <th></th>\n",
              "      <th></th>\n",
              "      <th></th>\n",
              "      <th></th>\n",
              "      <th></th>\n",
              "      <th></th>\n",
              "      <th></th>\n",
              "      <th></th>\n",
              "      <th></th>\n",
              "      <th></th>\n",
              "      <th></th>\n",
              "    </tr>\n",
              "  </thead>\n",
              "  <tbody>\n",
              "    <tr>\n",
              "      <th>1</th>\n",
              "      <td>195</td>\n",
              "      <td>1547</td>\n",
              "      <td>5832</td>\n",
              "      <td>13291</td>\n",
              "      <td>20959</td>\n",
              "      <td>23820</td>\n",
              "      <td>20205</td>\n",
              "      <td>12964</td>\n",
              "      <td>6151</td>\n",
              "      <td>2184</td>\n",
              "      <td>590</td>\n",
              "      <td>113</td>\n",
              "      <td>15</td>\n",
              "      <td>4</td>\n",
              "    </tr>\n",
              "    <tr>\n",
              "      <th>2</th>\n",
              "      <td>10</td>\n",
              "      <td>54</td>\n",
              "      <td>268</td>\n",
              "      <td>842</td>\n",
              "      <td>1584</td>\n",
              "      <td>1932</td>\n",
              "      <td>1698</td>\n",
              "      <td>1106</td>\n",
              "      <td>494</td>\n",
              "      <td>178</td>\n",
              "      <td>20</td>\n",
              "      <td>8</td>\n",
              "      <td>0</td>\n",
              "      <td>0</td>\n",
              "    </tr>\n",
              "    <tr>\n",
              "      <th>3</th>\n",
              "      <td>0</td>\n",
              "      <td>15</td>\n",
              "      <td>42</td>\n",
              "      <td>159</td>\n",
              "      <td>381</td>\n",
              "      <td>531</td>\n",
              "      <td>543</td>\n",
              "      <td>303</td>\n",
              "      <td>147</td>\n",
              "      <td>33</td>\n",
              "      <td>9</td>\n",
              "      <td>3</td>\n",
              "      <td>0</td>\n",
              "      <td>0</td>\n",
              "    </tr>\n",
              "    <tr>\n",
              "      <th>4</th>\n",
              "      <td>0</td>\n",
              "      <td>8</td>\n",
              "      <td>32</td>\n",
              "      <td>72</td>\n",
              "      <td>144</td>\n",
              "      <td>312</td>\n",
              "      <td>256</td>\n",
              "      <td>112</td>\n",
              "      <td>64</td>\n",
              "      <td>12</td>\n",
              "      <td>0</td>\n",
              "      <td>0</td>\n",
              "      <td>0</td>\n",
              "      <td>0</td>\n",
              "    </tr>\n",
              "    <tr>\n",
              "      <th>5</th>\n",
              "      <td>0</td>\n",
              "      <td>0</td>\n",
              "      <td>15</td>\n",
              "      <td>20</td>\n",
              "      <td>75</td>\n",
              "      <td>200</td>\n",
              "      <td>130</td>\n",
              "      <td>85</td>\n",
              "      <td>65</td>\n",
              "      <td>15</td>\n",
              "      <td>0</td>\n",
              "      <td>0</td>\n",
              "      <td>0</td>\n",
              "      <td>0</td>\n",
              "    </tr>\n",
              "    <tr>\n",
              "      <th>6</th>\n",
              "      <td>0</td>\n",
              "      <td>6</td>\n",
              "      <td>12</td>\n",
              "      <td>18</td>\n",
              "      <td>18</td>\n",
              "      <td>96</td>\n",
              "      <td>60</td>\n",
              "      <td>60</td>\n",
              "      <td>24</td>\n",
              "      <td>12</td>\n",
              "      <td>0</td>\n",
              "      <td>0</td>\n",
              "      <td>0</td>\n",
              "      <td>0</td>\n",
              "    </tr>\n",
              "    <tr>\n",
              "      <th>7</th>\n",
              "      <td>0</td>\n",
              "      <td>7</td>\n",
              "      <td>0</td>\n",
              "      <td>21</td>\n",
              "      <td>21</td>\n",
              "      <td>70</td>\n",
              "      <td>84</td>\n",
              "      <td>28</td>\n",
              "      <td>28</td>\n",
              "      <td>0</td>\n",
              "      <td>0</td>\n",
              "      <td>0</td>\n",
              "      <td>0</td>\n",
              "      <td>0</td>\n",
              "    </tr>\n",
              "    <tr>\n",
              "      <th>8</th>\n",
              "      <td>0</td>\n",
              "      <td>0</td>\n",
              "      <td>0</td>\n",
              "      <td>16</td>\n",
              "      <td>24</td>\n",
              "      <td>56</td>\n",
              "      <td>72</td>\n",
              "      <td>40</td>\n",
              "      <td>8</td>\n",
              "      <td>0</td>\n",
              "      <td>0</td>\n",
              "      <td>0</td>\n",
              "      <td>0</td>\n",
              "      <td>0</td>\n",
              "    </tr>\n",
              "    <tr>\n",
              "      <th>9</th>\n",
              "      <td>0</td>\n",
              "      <td>9</td>\n",
              "      <td>0</td>\n",
              "      <td>9</td>\n",
              "      <td>18</td>\n",
              "      <td>18</td>\n",
              "      <td>27</td>\n",
              "      <td>18</td>\n",
              "      <td>0</td>\n",
              "      <td>0</td>\n",
              "      <td>0</td>\n",
              "      <td>0</td>\n",
              "      <td>0</td>\n",
              "      <td>0</td>\n",
              "    </tr>\n",
              "    <tr>\n",
              "      <th>10</th>\n",
              "      <td>0</td>\n",
              "      <td>0</td>\n",
              "      <td>10</td>\n",
              "      <td>0</td>\n",
              "      <td>30</td>\n",
              "      <td>30</td>\n",
              "      <td>30</td>\n",
              "      <td>50</td>\n",
              "      <td>10</td>\n",
              "      <td>0</td>\n",
              "      <td>0</td>\n",
              "      <td>0</td>\n",
              "      <td>0</td>\n",
              "      <td>0</td>\n",
              "    </tr>\n",
              "  </tbody>\n",
              "</table>\n",
              "</div>"
            ],
            "text/plain": [
              "num_true_pred      0     1     2      3      4   ...    9    10   11  12  13\n",
              "frequency_result                                 ...                        \n",
              "1                 195  1547  5832  13291  20959  ...  2184  590  113  15   4\n",
              "2                  10    54   268    842   1584  ...   178   20    8   0   0\n",
              "3                   0    15    42    159    381  ...    33    9    3   0   0\n",
              "4                   0     8    32     72    144  ...    12    0    0   0   0\n",
              "5                   0     0    15     20     75  ...    15    0    0   0   0\n",
              "6                   0     6    12     18     18  ...    12    0    0   0   0\n",
              "7                   0     7     0     21     21  ...     0    0    0   0   0\n",
              "8                   0     0     0     16     24  ...     0    0    0   0   0\n",
              "9                   0     9     0      9     18  ...     0    0    0   0   0\n",
              "10                  0     0    10      0     30  ...     0    0    0   0   0\n",
              "\n",
              "[10 rows x 14 columns]"
            ]
          },
          "metadata": {
            "tags": []
          },
          "execution_count": 27
        }
      ]
    },
    {
      "cell_type": "code",
      "metadata": {
        "id": "I6wAmtim6w8z",
        "colab_type": "code",
        "outputId": "1b35c42d-5318-485e-fa57-c10c77746680",
        "colab": {
          "base_uri": "https://localhost:8080/",
          "height": 235
        }
      },
      "source": [
        "df[(df.frequency_result<10) & (df.frequency_result>2)]['num_true_pred'].value_counts()"
      ],
      "execution_count": 0,
      "outputs": [
        {
          "output_type": "execute_result",
          "data": {
            "text/plain": [
              "5     1283\n",
              "6     1172\n",
              "4      681\n",
              "7      646\n",
              "8      336\n",
              "3      315\n",
              "2      101\n",
              "9       72\n",
              "1       45\n",
              "10       9\n",
              "11       3\n",
              "Name: num_true_pred, dtype: int64"
            ]
          },
          "metadata": {
            "tags": []
          },
          "execution_count": 28
        }
      ]
    },
    {
      "cell_type": "code",
      "metadata": {
        "id": "1y10oD5f486d",
        "colab_type": "code",
        "outputId": "c40233ff-64d7-4889-f6a4-9e19471644fe",
        "colab": {
          "base_uri": "https://localhost:8080/",
          "height": 181
        }
      },
      "source": [
        "df[df.num_true_pred>8]['frequency_result'].value_counts()"
      ],
      "execution_count": 0,
      "outputs": [
        {
          "output_type": "execute_result",
          "data": {
            "text/plain": [
              "1     2906\n",
              "2      206\n",
              "3       45\n",
              "20      20\n",
              "17      17\n",
              "5       15\n",
              "6       12\n",
              "4       12\n",
              "Name: frequency_result, dtype: int64"
            ]
          },
          "metadata": {
            "tags": []
          },
          "execution_count": 30
        }
      ]
    },
    {
      "cell_type": "code",
      "metadata": {
        "id": "U4pqXW07rsJs",
        "colab_type": "code",
        "outputId": "05ac303a-e53f-40c1-f0c6-70d6b4007f45",
        "colab": {
          "base_uri": "https://localhost:8080/",
          "height": 668
        }
      },
      "source": [
        "df[df.num_true_pred>8].sort_values(['frequency_result', 'num_true_pred'], ascending=[False, False]).head(20)"
      ],
      "execution_count": 0,
      "outputs": [
        {
          "output_type": "execute_result",
          "data": {
            "text/html": [
              "<div>\n",
              "<style scoped>\n",
              "    .dataframe tbody tr th:only-of-type {\n",
              "        vertical-align: middle;\n",
              "    }\n",
              "\n",
              "    .dataframe tbody tr th {\n",
              "        vertical-align: top;\n",
              "    }\n",
              "\n",
              "    .dataframe thead th {\n",
              "        text-align: right;\n",
              "    }\n",
              "</style>\n",
              "<table border=\"1\" class=\"dataframe\">\n",
              "  <thead>\n",
              "    <tr style=\"text-align: right;\">\n",
              "      <th></th>\n",
              "      <th>number_draw</th>\n",
              "      <th>prediction</th>\n",
              "      <th>num_true_pred</th>\n",
              "      <th>frequency_result</th>\n",
              "      <th>game_1</th>\n",
              "      <th>game_2</th>\n",
              "      <th>game_3</th>\n",
              "      <th>game_4</th>\n",
              "      <th>game_5</th>\n",
              "      <th>game_6</th>\n",
              "      <th>game_7</th>\n",
              "      <th>game_8</th>\n",
              "      <th>game_9</th>\n",
              "      <th>game_10</th>\n",
              "      <th>game_11</th>\n",
              "      <th>game_12</th>\n",
              "      <th>game_13</th>\n",
              "      <th>game_14</th>\n",
              "      <th>game_15</th>\n",
              "    </tr>\n",
              "  </thead>\n",
              "  <tbody>\n",
              "    <tr>\n",
              "      <th>3993</th>\n",
              "      <td>22235</td>\n",
              "      <td>2X1X2X1X2X1X2X1</td>\n",
              "      <td>9</td>\n",
              "      <td>20</td>\n",
              "      <td>2</td>\n",
              "      <td>X</td>\n",
              "      <td>1</td>\n",
              "      <td>X</td>\n",
              "      <td>2</td>\n",
              "      <td>X</td>\n",
              "      <td>1</td>\n",
              "      <td>X</td>\n",
              "      <td>2</td>\n",
              "      <td>X</td>\n",
              "      <td>1</td>\n",
              "      <td>X</td>\n",
              "      <td>2</td>\n",
              "      <td>X</td>\n",
              "      <td>1</td>\n",
              "    </tr>\n",
              "    <tr>\n",
              "      <th>7453</th>\n",
              "      <td>41197</td>\n",
              "      <td>2X1X2X1X2X1X2X1</td>\n",
              "      <td>9</td>\n",
              "      <td>20</td>\n",
              "      <td>2</td>\n",
              "      <td>X</td>\n",
              "      <td>1</td>\n",
              "      <td>X</td>\n",
              "      <td>2</td>\n",
              "      <td>X</td>\n",
              "      <td>1</td>\n",
              "      <td>X</td>\n",
              "      <td>2</td>\n",
              "      <td>X</td>\n",
              "      <td>1</td>\n",
              "      <td>X</td>\n",
              "      <td>2</td>\n",
              "      <td>X</td>\n",
              "      <td>1</td>\n",
              "    </tr>\n",
              "    <tr>\n",
              "      <th>10232</th>\n",
              "      <td>58056</td>\n",
              "      <td>2X1X2X1X2X1X2X1</td>\n",
              "      <td>9</td>\n",
              "      <td>20</td>\n",
              "      <td>2</td>\n",
              "      <td>X</td>\n",
              "      <td>1</td>\n",
              "      <td>X</td>\n",
              "      <td>2</td>\n",
              "      <td>X</td>\n",
              "      <td>1</td>\n",
              "      <td>X</td>\n",
              "      <td>2</td>\n",
              "      <td>X</td>\n",
              "      <td>1</td>\n",
              "      <td>X</td>\n",
              "      <td>2</td>\n",
              "      <td>X</td>\n",
              "      <td>1</td>\n",
              "    </tr>\n",
              "    <tr>\n",
              "      <th>16544</th>\n",
              "      <td>101129</td>\n",
              "      <td>2X1X2X1X2X1X2X1</td>\n",
              "      <td>9</td>\n",
              "      <td>20</td>\n",
              "      <td>2</td>\n",
              "      <td>X</td>\n",
              "      <td>1</td>\n",
              "      <td>X</td>\n",
              "      <td>2</td>\n",
              "      <td>X</td>\n",
              "      <td>1</td>\n",
              "      <td>X</td>\n",
              "      <td>2</td>\n",
              "      <td>X</td>\n",
              "      <td>1</td>\n",
              "      <td>X</td>\n",
              "      <td>2</td>\n",
              "      <td>X</td>\n",
              "      <td>1</td>\n",
              "    </tr>\n",
              "    <tr>\n",
              "      <th>21560</th>\n",
              "      <td>131593</td>\n",
              "      <td>2X1X2X1X2X1X2X1</td>\n",
              "      <td>9</td>\n",
              "      <td>20</td>\n",
              "      <td>2</td>\n",
              "      <td>X</td>\n",
              "      <td>1</td>\n",
              "      <td>X</td>\n",
              "      <td>2</td>\n",
              "      <td>X</td>\n",
              "      <td>1</td>\n",
              "      <td>X</td>\n",
              "      <td>2</td>\n",
              "      <td>X</td>\n",
              "      <td>1</td>\n",
              "      <td>X</td>\n",
              "      <td>2</td>\n",
              "      <td>X</td>\n",
              "      <td>1</td>\n",
              "    </tr>\n",
              "    <tr>\n",
              "      <th>21686</th>\n",
              "      <td>132325</td>\n",
              "      <td>2X1X2X1X2X1X2X1</td>\n",
              "      <td>9</td>\n",
              "      <td>20</td>\n",
              "      <td>2</td>\n",
              "      <td>X</td>\n",
              "      <td>1</td>\n",
              "      <td>X</td>\n",
              "      <td>2</td>\n",
              "      <td>X</td>\n",
              "      <td>1</td>\n",
              "      <td>X</td>\n",
              "      <td>2</td>\n",
              "      <td>X</td>\n",
              "      <td>1</td>\n",
              "      <td>X</td>\n",
              "      <td>2</td>\n",
              "      <td>X</td>\n",
              "      <td>1</td>\n",
              "    </tr>\n",
              "    <tr>\n",
              "      <th>26376</th>\n",
              "      <td>162698</td>\n",
              "      <td>2X1X2X1X2X1X2X1</td>\n",
              "      <td>9</td>\n",
              "      <td>20</td>\n",
              "      <td>2</td>\n",
              "      <td>X</td>\n",
              "      <td>1</td>\n",
              "      <td>X</td>\n",
              "      <td>2</td>\n",
              "      <td>X</td>\n",
              "      <td>1</td>\n",
              "      <td>X</td>\n",
              "      <td>2</td>\n",
              "      <td>X</td>\n",
              "      <td>1</td>\n",
              "      <td>X</td>\n",
              "      <td>2</td>\n",
              "      <td>X</td>\n",
              "      <td>1</td>\n",
              "    </tr>\n",
              "    <tr>\n",
              "      <th>28875</th>\n",
              "      <td>174158</td>\n",
              "      <td>2X1X2X1X2X1X2X1</td>\n",
              "      <td>9</td>\n",
              "      <td>20</td>\n",
              "      <td>2</td>\n",
              "      <td>X</td>\n",
              "      <td>1</td>\n",
              "      <td>X</td>\n",
              "      <td>2</td>\n",
              "      <td>X</td>\n",
              "      <td>1</td>\n",
              "      <td>X</td>\n",
              "      <td>2</td>\n",
              "      <td>X</td>\n",
              "      <td>1</td>\n",
              "      <td>X</td>\n",
              "      <td>2</td>\n",
              "      <td>X</td>\n",
              "      <td>1</td>\n",
              "    </tr>\n",
              "    <tr>\n",
              "      <th>34898</th>\n",
              "      <td>208648</td>\n",
              "      <td>2X1X2X1X2X1X2X1</td>\n",
              "      <td>9</td>\n",
              "      <td>20</td>\n",
              "      <td>2</td>\n",
              "      <td>X</td>\n",
              "      <td>1</td>\n",
              "      <td>X</td>\n",
              "      <td>2</td>\n",
              "      <td>X</td>\n",
              "      <td>1</td>\n",
              "      <td>X</td>\n",
              "      <td>2</td>\n",
              "      <td>X</td>\n",
              "      <td>1</td>\n",
              "      <td>X</td>\n",
              "      <td>2</td>\n",
              "      <td>X</td>\n",
              "      <td>1</td>\n",
              "    </tr>\n",
              "    <tr>\n",
              "      <th>38720</th>\n",
              "      <td>232913</td>\n",
              "      <td>2X1X2X1X2X1X2X1</td>\n",
              "      <td>9</td>\n",
              "      <td>20</td>\n",
              "      <td>2</td>\n",
              "      <td>X</td>\n",
              "      <td>1</td>\n",
              "      <td>X</td>\n",
              "      <td>2</td>\n",
              "      <td>X</td>\n",
              "      <td>1</td>\n",
              "      <td>X</td>\n",
              "      <td>2</td>\n",
              "      <td>X</td>\n",
              "      <td>1</td>\n",
              "      <td>X</td>\n",
              "      <td>2</td>\n",
              "      <td>X</td>\n",
              "      <td>1</td>\n",
              "    </tr>\n",
              "    <tr>\n",
              "      <th>43435</th>\n",
              "      <td>255529</td>\n",
              "      <td>2X1X2X1X2X1X2X1</td>\n",
              "      <td>9</td>\n",
              "      <td>20</td>\n",
              "      <td>2</td>\n",
              "      <td>X</td>\n",
              "      <td>1</td>\n",
              "      <td>X</td>\n",
              "      <td>2</td>\n",
              "      <td>X</td>\n",
              "      <td>1</td>\n",
              "      <td>X</td>\n",
              "      <td>2</td>\n",
              "      <td>X</td>\n",
              "      <td>1</td>\n",
              "      <td>X</td>\n",
              "      <td>2</td>\n",
              "      <td>X</td>\n",
              "      <td>1</td>\n",
              "    </tr>\n",
              "    <tr>\n",
              "      <th>56927</th>\n",
              "      <td>338251</td>\n",
              "      <td>2X1X2X1X2X1X2X1</td>\n",
              "      <td>9</td>\n",
              "      <td>20</td>\n",
              "      <td>2</td>\n",
              "      <td>X</td>\n",
              "      <td>1</td>\n",
              "      <td>X</td>\n",
              "      <td>2</td>\n",
              "      <td>X</td>\n",
              "      <td>1</td>\n",
              "      <td>X</td>\n",
              "      <td>2</td>\n",
              "      <td>X</td>\n",
              "      <td>1</td>\n",
              "      <td>X</td>\n",
              "      <td>2</td>\n",
              "      <td>X</td>\n",
              "      <td>1</td>\n",
              "    </tr>\n",
              "    <tr>\n",
              "      <th>60483</th>\n",
              "      <td>366427</td>\n",
              "      <td>2X1X2X1X2X1X2X1</td>\n",
              "      <td>9</td>\n",
              "      <td>20</td>\n",
              "      <td>2</td>\n",
              "      <td>X</td>\n",
              "      <td>1</td>\n",
              "      <td>X</td>\n",
              "      <td>2</td>\n",
              "      <td>X</td>\n",
              "      <td>1</td>\n",
              "      <td>X</td>\n",
              "      <td>2</td>\n",
              "      <td>X</td>\n",
              "      <td>1</td>\n",
              "      <td>X</td>\n",
              "      <td>2</td>\n",
              "      <td>X</td>\n",
              "      <td>1</td>\n",
              "    </tr>\n",
              "    <tr>\n",
              "      <th>68802</th>\n",
              "      <td>420901</td>\n",
              "      <td>2X1X2X1X2X1X2X1</td>\n",
              "      <td>9</td>\n",
              "      <td>20</td>\n",
              "      <td>2</td>\n",
              "      <td>X</td>\n",
              "      <td>1</td>\n",
              "      <td>X</td>\n",
              "      <td>2</td>\n",
              "      <td>X</td>\n",
              "      <td>1</td>\n",
              "      <td>X</td>\n",
              "      <td>2</td>\n",
              "      <td>X</td>\n",
              "      <td>1</td>\n",
              "      <td>X</td>\n",
              "      <td>2</td>\n",
              "      <td>X</td>\n",
              "      <td>1</td>\n",
              "    </tr>\n",
              "    <tr>\n",
              "      <th>85278</th>\n",
              "      <td>521066</td>\n",
              "      <td>2X1X2X1X2X1X2X1</td>\n",
              "      <td>9</td>\n",
              "      <td>20</td>\n",
              "      <td>2</td>\n",
              "      <td>X</td>\n",
              "      <td>1</td>\n",
              "      <td>X</td>\n",
              "      <td>2</td>\n",
              "      <td>X</td>\n",
              "      <td>1</td>\n",
              "      <td>X</td>\n",
              "      <td>2</td>\n",
              "      <td>X</td>\n",
              "      <td>1</td>\n",
              "      <td>X</td>\n",
              "      <td>2</td>\n",
              "      <td>X</td>\n",
              "      <td>1</td>\n",
              "    </tr>\n",
              "    <tr>\n",
              "      <th>87768</th>\n",
              "      <td>534341</td>\n",
              "      <td>2X1X2X1X2X1X2X1</td>\n",
              "      <td>9</td>\n",
              "      <td>20</td>\n",
              "      <td>2</td>\n",
              "      <td>X</td>\n",
              "      <td>1</td>\n",
              "      <td>X</td>\n",
              "      <td>2</td>\n",
              "      <td>X</td>\n",
              "      <td>1</td>\n",
              "      <td>X</td>\n",
              "      <td>2</td>\n",
              "      <td>X</td>\n",
              "      <td>1</td>\n",
              "      <td>X</td>\n",
              "      <td>2</td>\n",
              "      <td>X</td>\n",
              "      <td>1</td>\n",
              "    </tr>\n",
              "    <tr>\n",
              "      <th>93956</th>\n",
              "      <td>576996</td>\n",
              "      <td>2X1X2X1X2X1X2X1</td>\n",
              "      <td>9</td>\n",
              "      <td>20</td>\n",
              "      <td>2</td>\n",
              "      <td>X</td>\n",
              "      <td>1</td>\n",
              "      <td>X</td>\n",
              "      <td>2</td>\n",
              "      <td>X</td>\n",
              "      <td>1</td>\n",
              "      <td>X</td>\n",
              "      <td>2</td>\n",
              "      <td>X</td>\n",
              "      <td>1</td>\n",
              "      <td>X</td>\n",
              "      <td>2</td>\n",
              "      <td>X</td>\n",
              "      <td>1</td>\n",
              "    </tr>\n",
              "    <tr>\n",
              "      <th>98907</th>\n",
              "      <td>603980</td>\n",
              "      <td>2X1X2X1X2X1X2X1</td>\n",
              "      <td>9</td>\n",
              "      <td>20</td>\n",
              "      <td>2</td>\n",
              "      <td>X</td>\n",
              "      <td>1</td>\n",
              "      <td>X</td>\n",
              "      <td>2</td>\n",
              "      <td>X</td>\n",
              "      <td>1</td>\n",
              "      <td>X</td>\n",
              "      <td>2</td>\n",
              "      <td>X</td>\n",
              "      <td>1</td>\n",
              "      <td>X</td>\n",
              "      <td>2</td>\n",
              "      <td>X</td>\n",
              "      <td>1</td>\n",
              "    </tr>\n",
              "    <tr>\n",
              "      <th>100560</th>\n",
              "      <td>614252</td>\n",
              "      <td>2X1X2X1X2X1X2X1</td>\n",
              "      <td>9</td>\n",
              "      <td>20</td>\n",
              "      <td>2</td>\n",
              "      <td>X</td>\n",
              "      <td>1</td>\n",
              "      <td>X</td>\n",
              "      <td>2</td>\n",
              "      <td>X</td>\n",
              "      <td>1</td>\n",
              "      <td>X</td>\n",
              "      <td>2</td>\n",
              "      <td>X</td>\n",
              "      <td>1</td>\n",
              "      <td>X</td>\n",
              "      <td>2</td>\n",
              "      <td>X</td>\n",
              "      <td>1</td>\n",
              "    </tr>\n",
              "    <tr>\n",
              "      <th>122081</th>\n",
              "      <td>728128</td>\n",
              "      <td>2X1X2X1X2X1X2X1</td>\n",
              "      <td>9</td>\n",
              "      <td>20</td>\n",
              "      <td>2</td>\n",
              "      <td>X</td>\n",
              "      <td>1</td>\n",
              "      <td>X</td>\n",
              "      <td>2</td>\n",
              "      <td>X</td>\n",
              "      <td>1</td>\n",
              "      <td>X</td>\n",
              "      <td>2</td>\n",
              "      <td>X</td>\n",
              "      <td>1</td>\n",
              "      <td>X</td>\n",
              "      <td>2</td>\n",
              "      <td>X</td>\n",
              "      <td>1</td>\n",
              "    </tr>\n",
              "  </tbody>\n",
              "</table>\n",
              "</div>"
            ],
            "text/plain": [
              "        number_draw       prediction  num_true_pred  ...  game_13 game_14 game_15\n",
              "3993          22235  2X1X2X1X2X1X2X1              9  ...        2       X       1\n",
              "7453          41197  2X1X2X1X2X1X2X1              9  ...        2       X       1\n",
              "10232         58056  2X1X2X1X2X1X2X1              9  ...        2       X       1\n",
              "16544        101129  2X1X2X1X2X1X2X1              9  ...        2       X       1\n",
              "21560        131593  2X1X2X1X2X1X2X1              9  ...        2       X       1\n",
              "21686        132325  2X1X2X1X2X1X2X1              9  ...        2       X       1\n",
              "26376        162698  2X1X2X1X2X1X2X1              9  ...        2       X       1\n",
              "28875        174158  2X1X2X1X2X1X2X1              9  ...        2       X       1\n",
              "34898        208648  2X1X2X1X2X1X2X1              9  ...        2       X       1\n",
              "38720        232913  2X1X2X1X2X1X2X1              9  ...        2       X       1\n",
              "43435        255529  2X1X2X1X2X1X2X1              9  ...        2       X       1\n",
              "56927        338251  2X1X2X1X2X1X2X1              9  ...        2       X       1\n",
              "60483        366427  2X1X2X1X2X1X2X1              9  ...        2       X       1\n",
              "68802        420901  2X1X2X1X2X1X2X1              9  ...        2       X       1\n",
              "85278        521066  2X1X2X1X2X1X2X1              9  ...        2       X       1\n",
              "87768        534341  2X1X2X1X2X1X2X1              9  ...        2       X       1\n",
              "93956        576996  2X1X2X1X2X1X2X1              9  ...        2       X       1\n",
              "98907        603980  2X1X2X1X2X1X2X1              9  ...        2       X       1\n",
              "100560       614252  2X1X2X1X2X1X2X1              9  ...        2       X       1\n",
              "122081       728128  2X1X2X1X2X1X2X1              9  ...        2       X       1\n",
              "\n",
              "[20 rows x 19 columns]"
            ]
          },
          "metadata": {
            "tags": []
          },
          "execution_count": 31
        }
      ]
    },
    {
      "cell_type": "code",
      "metadata": {
        "id": "NgA_uWisLMzi",
        "colab_type": "code",
        "outputId": "d030ce88-3979-4266-d625-f57eca474372",
        "colab": {
          "base_uri": "https://localhost:8080/",
          "height": 290
        }
      },
      "source": [
        "target_col = [i for i in df.columns if 'game_' in i]\n",
        "for c in target_col:\n",
        "  res = df[(df.frequency_result<10) & (df.frequency_result>1)][c].value_counts(normalize=True)\n",
        "  arr = np.array([res['1'], res['2'], res['X']])\n",
        "  print(c, np.argmax(arr)+1, arr )"
      ],
      "execution_count": 0,
      "outputs": [
        {
          "output_type": "stream",
          "text": [
            "game_1 2 [0.33001478 0.55362837 0.11635685]\n",
            "game_2 1 [0.55961733 0.33273703 0.10764564]\n",
            "game_3 2 [0.40452672 0.47701641 0.11845687]\n",
            "game_4 1 [0.46044956 0.44707163 0.09247881]\n",
            "game_5 2 [0.44831609 0.45772731 0.0939566 ]\n",
            "game_6 1 [0.68235203 0.23862487 0.0790231 ]\n",
            "game_7 2 [0.23738042 0.70296337 0.05965622]\n",
            "game_8 1 [0.67286303 0.25114723 0.07598973]\n",
            "game_9 1 [0.44380493 0.39495994 0.16123512]\n",
            "game_10 2 [0.44131601 0.47094968 0.08773431]\n",
            "game_11 1 [0.68421871 0.24795831 0.06782298]\n",
            "game_12 2 [0.42467139 0.47507195 0.10025667]\n",
            "game_13 1 [0.7112079  0.22392471 0.06486739]\n",
            "game_14 1 [0.62961811 0.29999222 0.07038967]\n",
            "game_15 1 [0.50338337 0.41277125 0.08384538]\n"
          ],
          "name": "stdout"
        }
      ]
    },
    {
      "cell_type": "code",
      "metadata": {
        "id": "b4d3XBjGMclS",
        "colab_type": "code",
        "outputId": "2143532f-1a90-4464-d043-a19367a6c851",
        "colab": {
          "base_uri": "https://localhost:8080/",
          "height": 35
        }
      },
      "source": [
        "for i, char_ in enumerate(true_res, 1):\n",
        "  print(i, char_, sep='-', end=' ')"
      ],
      "execution_count": 0,
      "outputs": [
        {
          "output_type": "stream",
          "text": [
            "1-2 2-X 3-X 4-X 5-2 6-X 7-2 8-X 9-X 10-1 11-1 12-2 13-2 14-1 15-1 "
          ],
          "name": "stdout"
        }
      ]
    },
    {
      "cell_type": "code",
      "metadata": {
        "id": "Boaz-Vl5Pidl",
        "colab_type": "code",
        "outputId": "2f15df91-4ff6-4617-d4a0-a379888b8e70",
        "colab": {
          "base_uri": "https://localhost:8080/",
          "height": 218
        }
      },
      "source": [
        "def f(row):\n",
        "  return True if variant_counter[row['number_draw']]==1 else False\n",
        "\n",
        "variant_counter = df.number_draw.value_counts()\n",
        "temp_df = df[df.apply(f, axis=1)]\n",
        "temp_df.head()"
      ],
      "execution_count": 0,
      "outputs": [
        {
          "output_type": "execute_result",
          "data": {
            "text/html": [
              "<div>\n",
              "<style scoped>\n",
              "    .dataframe tbody tr th:only-of-type {\n",
              "        vertical-align: middle;\n",
              "    }\n",
              "\n",
              "    .dataframe tbody tr th {\n",
              "        vertical-align: top;\n",
              "    }\n",
              "\n",
              "    .dataframe thead th {\n",
              "        text-align: right;\n",
              "    }\n",
              "</style>\n",
              "<table border=\"1\" class=\"dataframe\">\n",
              "  <thead>\n",
              "    <tr style=\"text-align: right;\">\n",
              "      <th></th>\n",
              "      <th>number_draw</th>\n",
              "      <th>prediction</th>\n",
              "      <th>num_true_pred</th>\n",
              "      <th>frequency_result</th>\n",
              "      <th>game_1</th>\n",
              "      <th>game_2</th>\n",
              "      <th>game_3</th>\n",
              "      <th>game_4</th>\n",
              "      <th>game_5</th>\n",
              "      <th>game_6</th>\n",
              "      <th>game_7</th>\n",
              "      <th>game_8</th>\n",
              "      <th>game_9</th>\n",
              "      <th>game_10</th>\n",
              "      <th>game_11</th>\n",
              "      <th>game_12</th>\n",
              "      <th>game_13</th>\n",
              "      <th>game_14</th>\n",
              "      <th>game_15</th>\n",
              "    </tr>\n",
              "  </thead>\n",
              "  <tbody>\n",
              "    <tr>\n",
              "      <th>0</th>\n",
              "      <td>19</td>\n",
              "      <td>2121X2X12111121</td>\n",
              "      <td>4</td>\n",
              "      <td>18</td>\n",
              "      <td>2</td>\n",
              "      <td>1</td>\n",
              "      <td>2</td>\n",
              "      <td>1</td>\n",
              "      <td>X</td>\n",
              "      <td>2</td>\n",
              "      <td>X</td>\n",
              "      <td>1</td>\n",
              "      <td>2</td>\n",
              "      <td>1</td>\n",
              "      <td>1</td>\n",
              "      <td>1</td>\n",
              "      <td>1</td>\n",
              "      <td>2</td>\n",
              "      <td>1</td>\n",
              "    </tr>\n",
              "    <tr>\n",
              "      <th>1</th>\n",
              "      <td>26</td>\n",
              "      <td>XX111X12XX12XX1</td>\n",
              "      <td>6</td>\n",
              "      <td>1</td>\n",
              "      <td>X</td>\n",
              "      <td>X</td>\n",
              "      <td>1</td>\n",
              "      <td>1</td>\n",
              "      <td>1</td>\n",
              "      <td>X</td>\n",
              "      <td>1</td>\n",
              "      <td>2</td>\n",
              "      <td>X</td>\n",
              "      <td>X</td>\n",
              "      <td>1</td>\n",
              "      <td>2</td>\n",
              "      <td>X</td>\n",
              "      <td>X</td>\n",
              "      <td>1</td>\n",
              "    </tr>\n",
              "    <tr>\n",
              "      <th>2</th>\n",
              "      <td>33</td>\n",
              "      <td>121X112112X112X</td>\n",
              "      <td>2</td>\n",
              "      <td>1</td>\n",
              "      <td>1</td>\n",
              "      <td>2</td>\n",
              "      <td>1</td>\n",
              "      <td>X</td>\n",
              "      <td>1</td>\n",
              "      <td>1</td>\n",
              "      <td>2</td>\n",
              "      <td>1</td>\n",
              "      <td>1</td>\n",
              "      <td>2</td>\n",
              "      <td>X</td>\n",
              "      <td>1</td>\n",
              "      <td>1</td>\n",
              "      <td>2</td>\n",
              "      <td>X</td>\n",
              "    </tr>\n",
              "    <tr>\n",
              "      <th>3</th>\n",
              "      <td>40</td>\n",
              "      <td>X11X21X2121X22X</td>\n",
              "      <td>4</td>\n",
              "      <td>4</td>\n",
              "      <td>X</td>\n",
              "      <td>1</td>\n",
              "      <td>1</td>\n",
              "      <td>X</td>\n",
              "      <td>2</td>\n",
              "      <td>1</td>\n",
              "      <td>X</td>\n",
              "      <td>2</td>\n",
              "      <td>1</td>\n",
              "      <td>2</td>\n",
              "      <td>1</td>\n",
              "      <td>X</td>\n",
              "      <td>2</td>\n",
              "      <td>2</td>\n",
              "      <td>X</td>\n",
              "    </tr>\n",
              "    <tr>\n",
              "      <th>4</th>\n",
              "      <td>57</td>\n",
              "      <td>X1121X22111XX12</td>\n",
              "      <td>5</td>\n",
              "      <td>1</td>\n",
              "      <td>X</td>\n",
              "      <td>1</td>\n",
              "      <td>1</td>\n",
              "      <td>2</td>\n",
              "      <td>1</td>\n",
              "      <td>X</td>\n",
              "      <td>2</td>\n",
              "      <td>2</td>\n",
              "      <td>1</td>\n",
              "      <td>1</td>\n",
              "      <td>1</td>\n",
              "      <td>X</td>\n",
              "      <td>X</td>\n",
              "      <td>1</td>\n",
              "      <td>2</td>\n",
              "    </tr>\n",
              "  </tbody>\n",
              "</table>\n",
              "</div>"
            ],
            "text/plain": [
              "   number_draw       prediction  num_true_pred  ...  game_13 game_14 game_15\n",
              "0           19  2121X2X12111121              4  ...        1       2       1\n",
              "1           26  XX111X12XX12XX1              6  ...        X       X       1\n",
              "2           33  121X112112X112X              2  ...        1       2       X\n",
              "3           40  X11X21X2121X22X              4  ...        2       2       X\n",
              "4           57  X1121X22111XX12              5  ...        X       1       2\n",
              "\n",
              "[5 rows x 19 columns]"
            ]
          },
          "metadata": {
            "tags": []
          },
          "execution_count": 35
        }
      ]
    },
    {
      "cell_type": "code",
      "metadata": {
        "id": "OiHopRjyrwnP",
        "colab_type": "code",
        "outputId": "27e8e1d1-a819-4a5e-d6e2-82c358bebf6d",
        "colab": {
          "base_uri": "https://localhost:8080/",
          "height": 35
        }
      },
      "source": [
        "temp_df.shape"
      ],
      "execution_count": 0,
      "outputs": [
        {
          "output_type": "execute_result",
          "data": {
            "text/plain": [
              "(68967, 19)"
            ]
          },
          "metadata": {
            "tags": []
          },
          "execution_count": 36
        }
      ]
    },
    {
      "cell_type": "code",
      "metadata": {
        "id": "JtDQvuVUS1df",
        "colab_type": "code",
        "outputId": "31eef235-72f8-4efd-9d17-250484d0815f",
        "colab": {
          "base_uri": "https://localhost:8080/",
          "height": 32
        }
      },
      "source": [
        "pd.crosstab(temp_df[(temp_df.frequency_result<11) & (temp_df.frequency_result>0) & (temp_df.number_draw>1200000) & (temp_df.number_draw<2200000)].frequency_result, temp_df.num_true_pred, normalize=False)"
      ],
      "execution_count": 0,
      "outputs": [
        {
          "output_type": "execute_result",
          "data": {
            "text/html": [
              "<div>\n",
              "<style scoped>\n",
              "    .dataframe tbody tr th:only-of-type {\n",
              "        vertical-align: middle;\n",
              "    }\n",
              "\n",
              "    .dataframe tbody tr th {\n",
              "        vertical-align: top;\n",
              "    }\n",
              "\n",
              "    .dataframe thead th {\n",
              "        text-align: right;\n",
              "    }\n",
              "</style>\n",
              "<table border=\"1\" class=\"dataframe\">\n",
              "  <thead>\n",
              "    <tr style=\"text-align: right;\">\n",
              "      <th></th>\n",
              "    </tr>\n",
              "  </thead>\n",
              "  <tbody>\n",
              "  </tbody>\n",
              "</table>\n",
              "</div>"
            ],
            "text/plain": [
              "Empty DataFrame\n",
              "Columns: []\n",
              "Index: []"
            ]
          },
          "metadata": {
            "tags": []
          },
          "execution_count": 37
        }
      ]
    },
    {
      "cell_type": "code",
      "metadata": {
        "id": "nZo67bPMT06s",
        "colab_type": "code",
        "colab": {}
      },
      "source": [
        "target_col = [i for i in df.columns if 'game_' in i]\n",
        "for c in target_col:\n",
        "  res = temp_df[(temp_df.frequency_result<11) & (temp_df.frequency_result>0) & (temp_df.number_draw>1200000) & (temp_df.number_draw<2200000)][c].value_counts(normalize=True)\n",
        "  arr = np.array([res['1'], res['2'], res['X']])\n",
        "  print(c, np.argmax(arr)+1, arr )"
      ],
      "execution_count": 0,
      "outputs": []
    },
    {
      "cell_type": "code",
      "metadata": {
        "id": "2pa_6Ut1UIJy",
        "colab_type": "code",
        "outputId": "4d87b310-7575-4280-df3b-3f512b678484",
        "colab": {
          "base_uri": "https://localhost:8080/",
          "height": 298
        }
      },
      "source": [
        "sns.countplot(temp_df[temp_df.frequency_result<11].num_true_pred,)"
      ],
      "execution_count": 0,
      "outputs": [
        {
          "output_type": "execute_result",
          "data": {
            "text/plain": [
              "<matplotlib.axes._subplots.AxesSubplot at 0x7fa4e3911550>"
            ]
          },
          "metadata": {
            "tags": []
          },
          "execution_count": 84
        },
        {
          "output_type": "display_data",
          "data": {
            "image/png": "[encoded data removed]",
            "text/plain": [
              "<Figure size 432x288 with 1 Axes>"
            ]
          },
          "metadata": {
            "tags": []
          }
        }
      ]
    },
    {
      "cell_type": "code",
      "metadata": {
        "id": "lw0nBX_3sPcY",
        "colab_type": "code",
        "outputId": "2069b6ad-f881-4f44-bfd2-b7eca4841961",
        "colab": {
          "base_uri": "https://localhost:8080/",
          "height": 585
        }
      },
      "source": [
        "sns.pairplot(df[['frequency_result', 'num_true_pred', 'number_draw']])"
      ],
      "execution_count": 0,
      "outputs": [
        {
          "output_type": "execute_result",
          "data": {
            "text/plain": [
              "<seaborn.axisgrid.PairGrid at 0x7fa4e44322b0>"
            ]
          },
          "metadata": {
            "tags": []
          },
          "execution_count": 70
        },
        {
          "output_type": "display_data",
          "data": {
            "image/png": "[encoded data removed]",
            "text/plain": [
              "<Figure size 540x540 with 12 Axes>"
            ]
          },
          "metadata": {
            "tags": []
          }
        }
      ]
    },
    {
      "cell_type": "code",
      "metadata": {
        "id": "CaPuHN3ysnFB",
        "colab_type": "code",
        "colab": {}
      },
      "source": [
        "import matplotlib.pyplot as plt\n"
      ],
      "execution_count": 0,
      "outputs": []
    },
    {
      "cell_type": "code",
      "metadata": {
        "id": "o-4gbnaWtQgy",
        "colab_type": "code",
        "outputId": "3ee24dee-b8a2-4a25-cf74-b27913b91803",
        "colab": {
          "base_uri": "https://localhost:8080/",
          "height": 283
        }
      },
      "source": [
        "plt.scatter(df.number_draw, df.num_true_pred)"
      ],
      "execution_count": 0,
      "outputs": [
        {
          "output_type": "execute_result",
          "data": {
            "text/plain": [
              "<matplotlib.collections.PathCollection at 0x7fa4e389ce10>"
            ]
          },
          "metadata": {
            "tags": []
          },
          "execution_count": 72
        },
        {
          "output_type": "display_data",
          "data": {
            "image/png": "[encoded data removed]",
            "text/plain": [
              "<Figure size 432x288 with 1 Axes>"
            ]
          },
          "metadata": {
            "tags": []
          }
        }
      ]
    },
    {
      "cell_type": "code",
      "metadata": {
        "id": "LMpIBQ1mt03E",
        "colab_type": "code",
        "outputId": "30a6d55c-42ee-4126-fd27-0691821687f1",
        "colab": {
          "base_uri": "https://localhost:8080/",
          "height": 288
        }
      },
      "source": [
        "df.describe()"
      ],
      "execution_count": 0,
      "outputs": [
        {
          "output_type": "execute_result",
          "data": {
            "text/html": [
              "<div>\n",
              "<style scoped>\n",
              "    .dataframe tbody tr th:only-of-type {\n",
              "        vertical-align: middle;\n",
              "    }\n",
              "\n",
              "    .dataframe tbody tr th {\n",
              "        vertical-align: top;\n",
              "    }\n",
              "\n",
              "    .dataframe thead th {\n",
              "        text-align: right;\n",
              "    }\n",
              "</style>\n",
              "<table border=\"1\" class=\"dataframe\">\n",
              "  <thead>\n",
              "    <tr style=\"text-align: right;\">\n",
              "      <th></th>\n",
              "      <th>number_draw</th>\n",
              "      <th>num_true_pred</th>\n",
              "      <th>frequency_result</th>\n",
              "    </tr>\n",
              "  </thead>\n",
              "  <tbody>\n",
              "    <tr>\n",
              "      <th>count</th>\n",
              "      <td>5.357200e+05</td>\n",
              "      <td>535720.000000</td>\n",
              "      <td>535720.000000</td>\n",
              "    </tr>\n",
              "    <tr>\n",
              "      <th>mean</th>\n",
              "      <td>1.278371e+06</td>\n",
              "      <td>5.346282</td>\n",
              "      <td>3.713078</td>\n",
              "    </tr>\n",
              "    <tr>\n",
              "      <th>std</th>\n",
              "      <td>7.734188e+05</td>\n",
              "      <td>1.734517</td>\n",
              "      <td>23.039124</td>\n",
              "    </tr>\n",
              "    <tr>\n",
              "      <th>min</th>\n",
              "      <td>1.400000e+01</td>\n",
              "      <td>0.000000</td>\n",
              "      <td>1.000000</td>\n",
              "    </tr>\n",
              "    <tr>\n",
              "      <th>25%</th>\n",
              "      <td>6.017922e+05</td>\n",
              "      <td>4.000000</td>\n",
              "      <td>1.000000</td>\n",
              "    </tr>\n",
              "    <tr>\n",
              "      <th>50%</th>\n",
              "      <td>1.225142e+06</td>\n",
              "      <td>5.000000</td>\n",
              "      <td>1.000000</td>\n",
              "    </tr>\n",
              "    <tr>\n",
              "      <th>75%</th>\n",
              "      <td>1.994226e+06</td>\n",
              "      <td>6.000000</td>\n",
              "      <td>1.000000</td>\n",
              "    </tr>\n",
              "    <tr>\n",
              "      <th>max</th>\n",
              "      <td>2.607161e+06</td>\n",
              "      <td>14.000000</td>\n",
              "      <td>431.000000</td>\n",
              "    </tr>\n",
              "  </tbody>\n",
              "</table>\n",
              "</div>"
            ],
            "text/plain": [
              "        number_draw  num_true_pred  frequency_result\n",
              "count  5.357200e+05  535720.000000     535720.000000\n",
              "mean   1.278371e+06       5.346282          3.713078\n",
              "std    7.734188e+05       1.734517         23.039124\n",
              "min    1.400000e+01       0.000000          1.000000\n",
              "25%    6.017922e+05       4.000000          1.000000\n",
              "50%    1.225142e+06       5.000000          1.000000\n",
              "75%    1.994226e+06       6.000000          1.000000\n",
              "max    2.607161e+06      14.000000        431.000000"
            ]
          },
          "metadata": {
            "tags": []
          },
          "execution_count": 73
        }
      ]
    }
  ]
}